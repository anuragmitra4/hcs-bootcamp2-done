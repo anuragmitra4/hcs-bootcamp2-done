{
 "cells": [
  {
   "cell_type": "markdown",
   "metadata": {},
   "source": [
    "# Using APIs and Intro to Machine Learning\n",
    "#### Connor Leggett"
   ]
  },
  {
   "cell_type": "markdown",
   "metadata": {},
   "source": [
    "## Using an API"
   ]
  },
  {
   "cell_type": "code",
   "execution_count": 1,
   "metadata": {},
   "outputs": [],
   "source": [
    "# Importing necessary libraries\n",
    "import urllib\n",
    "import requests\n",
    "import time"
   ]
  },
  {
   "cell_type": "markdown",
   "metadata": {},
   "source": [
    "### Generating random jeopardy questions\n",
    "### (We didn't do this in the bootcamp, but it's another example of API use)"
   ]
  },
  {
   "cell_type": "code",
   "execution_count": null,
   "metadata": {},
   "outputs": [],
   "source": [
    "# A function to Display information from a question Dictionary:\n",
    "def display_question(question):\n",
    "    print(\"Category: \" + question[\"category\"][\"title\"])\n",
    "    print(\"Q: \" + question[\"question\"])\n",
    "    input()\n",
    "    print(\"A: \" + question[\"answer\"])\n",
    "\n",
    "\n",
    "# The URL of the API I will be making requests to:\n",
    "url = \"http://jservice.io/api/random\"\n",
    "\n",
    "# Making the URL Request\n",
    "random_question = requests.get(url).json()[0]\n",
    "print(random_question)\n",
    "\n",
    "# Displaying Question\n",
    "display_question(random_question)\n",
    "\n"
   ]
  },
  {
   "cell_type": "markdown",
   "metadata": {},
   "source": [
    "### Finding Song Lyrics"
   ]
  },
  {
   "cell_type": "code",
   "execution_count": 3,
   "metadata": {},
   "outputs": [
    {
     "name": "stdout",
     "output_type": "stream",
     "text": [
      "Title: \n"
     ]
    },
    {
     "ename": "SyntaxError",
     "evalue": "unexpected EOF while parsing (<string>, line 0)",
     "output_type": "error",
     "traceback": [
      "\u001b[0;36m  File \u001b[0;32m\"<string>\"\u001b[0;36m, line \u001b[0;32munknown\u001b[0m\n\u001b[0;31m    \u001b[0m\n\u001b[0m    ^\u001b[0m\n\u001b[0;31mSyntaxError\u001b[0m\u001b[0;31m:\u001b[0m unexpected EOF while parsing\n"
     ]
    }
   ],
   "source": [
    "# Base URL:\n",
    "base_url = \"https://api.lyrics.ovh/v1/\"\n",
    "\n",
    "# User's input\n",
    "title = input(\"Title: \")\n",
    "artist = input(\"Artist: \")\n",
    "\n",
    "# Create a new url based on users requests:\n",
    "final_url = base_url + artist + '/' + title\n",
    "\n",
    "data = requests.get(final_url).json()\n",
    "\n",
    "# Making sure the API returned a value\n",
    "try:\n",
    "    print(\"\\n\\n\" + data['lyrics'])\n",
    "except KeyError:\n",
    "    print(\"Song not found\")\n",
    "\n",
    "# For requests with optional arguments, look up: urllib.parse.urlencode()"
   ]
  },
  {
   "cell_type": "markdown",
   "metadata": {},
   "source": [
    "## Making an API"
   ]
  },
  {
   "cell_type": "code",
   "execution_count": 2,
   "metadata": {},
   "outputs": [],
   "source": [
    "# Necessary imports\n",
    "import random\n",
    "from flask import Flask, request\n",
    "import random"
   ]
  },
  {
   "cell_type": "markdown",
   "metadata": {},
   "source": [
    "### Making a random number API"
   ]
  },
  {
   "cell_type": "code",
   "execution_count": 5,
   "metadata": {},
   "outputs": [
    {
     "name": "stdout",
     "output_type": "stream",
     "text": [
      " * Serving Flask app \"__main__\" (lazy loading)\n",
      " * Environment: production\n",
      "   WARNING: This is a development server. Do not use it in a production deployment.\n",
      "   Use a production WSGI server instead.\n",
      " * Debug mode: off\n"
     ]
    },
    {
     "name": "stderr",
     "output_type": "stream",
     "text": [
      " * Running on http://127.0.0.1:5000/ (Press CTRL+C to quit)\n"
     ]
    }
   ],
   "source": [
    "# Initialize flask app\n",
    "app = Flask(__name__)\n",
    "\n",
    "# On the main page, return a random number (as a string)\n",
    "@app.route(\"/\", methods=['GET'])\n",
    "def first_api():\n",
    "    return str(random.randrange(1, 10))\n",
    "\n",
    "#Run the app\n",
    "app.run()"
   ]
  },
  {
   "cell_type": "markdown",
   "metadata": {},
   "source": [
    "### Making an addition API:"
   ]
  },
  {
   "cell_type": "code",
   "execution_count": null,
   "metadata": {},
   "outputs": [
    {
     "name": "stdout",
     "output_type": "stream",
     "text": [
      " * Serving Flask app \"__main__\" (lazy loading)\n",
      " * Environment: production\n",
      "   WARNING: This is a development server. Do not use it in a production deployment.\n",
      "   Use a production WSGI server instead.\n",
      " * Debug mode: off\n"
     ]
    },
    {
     "name": "stderr",
     "output_type": "stream",
     "text": [
      " * Running on http://127.0.0.1:5000/ (Press CTRL+C to quit)\n"
     ]
    }
   ],
   "source": [
    "# Initialize flask app\n",
    "app = Flask(__name__)\n",
    "\n",
    "# On the main page, return a random number (as a string)\n",
    "@app.route(\"/\", methods=['GET'])\n",
    "def first_api():\n",
    "    return str(random.randrange(1, 10))\n",
    "\n",
    "# On the add page, take two arguments, add them, and return the string\n",
    "@app.route(\"/add\", methods=['GET'])\n",
    "def second_api():\n",
    "    first = request.args.get(\"first\")\n",
    "    second = request.args.get(\"second\")\n",
    "    return str(int(first) + int(second))\n",
    "\n",
    "# Run the application\n",
    "app.run()"
   ]
  },
  {
   "cell_type": "markdown",
   "metadata": {},
   "source": [
    "## Data Science"
   ]
  },
  {
   "cell_type": "code",
   "execution_count": 3,
   "metadata": {},
   "outputs": [],
   "source": [
    "# Necessary imports:\n",
    "import json\n",
    "import pandas as pd\n",
    "from sklearn.cluster import KMeans\n",
    "from sklearn.neighbors import KNeighborsClassifier\n",
    "from sklearn.metrics import confusion_matrix, accuracy_score\n",
    "from sklearn.preprocessing import LabelEncoder\n",
    "from sklearn.model_selection import cross_val_score\n",
    "from sklearn.model_selection import train_test_split\n",
    "import matplotlib.pyplot as plt\n",
    "from pandas.plotting import parallel_coordinates\n",
    "import numpy as np\n",
    "import random\n",
    "import os\n",
    "\n",
    "# Setting up current directory:\n",
    "CURRENT_DIRECTORY = os.getcwd()"
   ]
  },
  {
   "cell_type": "markdown",
   "metadata": {},
   "source": [
    "### K Means Clustering \n",
    "### (We didn't do this in the bootcamp, but it's a method of 'unsupervised learning' which you can check out if you're interested)"
   ]
  },
  {
   "cell_type": "code",
   "execution_count": 4,
   "metadata": {
    "scrolled": true
   },
   "outputs": [
    {
     "data": {
      "text/plain": [
       "<matplotlib.collections.PathCollection at 0x1a21c99790>"
      ]
     },
     "execution_count": 4,
     "metadata": {},
     "output_type": "execute_result"
    },
    {
     "data": {
      "image/png": "[encoded data removed]",
      "text/plain": [
       "<Figure size 360x360 with 1 Axes>"
      ]
     },
     "metadata": {
      "needs_background": "light"
     },
     "output_type": "display_data"
    }
   ],
   "source": [
    "# Creating a pandas dataframe\n",
    "df = pd.DataFrame({\n",
    "    'x': [12, 20, 28, 18, 29, 33, 24, 45, 45, 52, 51, 52, 55, 53, 55, 61, 64, 69, 72],\n",
    "    'y': [39, 36, 30, 52, 54, 46, 55, 59, 63, 70, 66, 63, 58, 23, 14, 8, 19, 7, 24]\n",
    "})\n",
    "\n",
    "# Alternatively, use random datasets\n",
    "\"\"\"\n",
    "rands1 = [random.randint(0,100) for i in range(100)]\n",
    "rands2 = [random.randint(0,100) for i in range(100)]\n",
    "df = pd.DataFrame({\n",
    "    'x': rands1,\n",
    "    'y': rands2\n",
    "})\n",
    "\"\"\"\n",
    "\n",
    "# Using the sklearn KMeans algorithm to group data\n",
    "kmeans = KMeans(n_clusters=3)\n",
    "kmeans.fit(df)\n",
    "\n",
    "# Accessing the central points of each group \n",
    "centroids = kmeans.cluster_centers_\n",
    "\n",
    "# Accessing the labels of each point\n",
    "labels = kmeans.labels_\n",
    "\n",
    "\n",
    "# Plotting the results below\n",
    "fig = plt.figure(figsize=(5, 5))\n",
    "ax = fig.add_subplot(1,1,1)\n",
    "ax.scatter(df['x'], df['y'], c=labels.astype(np.float), edgecolor='k', s=40)\n",
    "\n",
    "    \n",
    "\n"
   ]
  },
  {
   "cell_type": "markdown",
   "metadata": {},
   "source": [
    "### K Nearest Neighbors"
   ]
  },
  {
   "cell_type": "code",
   "execution_count": 5,
   "metadata": {},
   "outputs": [],
   "source": [
    "# Importing data from a csv file\n",
    "dataset = pd.read_csv(CURRENT_DIRECTORY + '/players.csv')\n",
    "\n",
    "# Adding an Id tag to the dataframe\n",
    "dataset['Id'] = range(555)\n",
    "\n",
    "# Ways to visualize the data:\n",
    "rows, cols = dataset.shape\n",
    "\n",
    "\n",
    "# Check how many of each species we have\n",
    "dataset.groupby('overall').size()\n",
    "\n",
    "# splitting up the labels and the values for each species:\n",
    "feature_columns = ['wage']\n",
    "X = dataset[feature_columns].values\n",
    "Y = dataset['overall'].values\n",
    "\n",
    "\n",
    "# Encoding Labels (Turning string species names into integers)\n",
    "# setosa -> 0\n",
    "# versicolor -> 1\n",
    "# virginica -> 2\n",
    "le = LabelEncoder()\n",
    "Y = le.fit_transform(Y)"
   ]
  },
  {
   "cell_type": "code",
   "execution_count": 6,
   "metadata": {},
   "outputs": [
    {
     "name": "stderr",
     "output_type": "stream",
     "text": [
      "/opt/anaconda2/lib/python2.7/site-packages/matplotlib/axes/_base.py:3152: UserWarning: Attempting to set identical left==right results\n",
      "in singular transformations; automatically expanding.\n",
      "left=0, right=0\n",
      "  'left=%s, right=%s') % (left, right))\n"
     ]
    },
    {
     "data": {
      "image/png": "[encoded data removed]",
      "text/plain": [
       "<Figure size 1080x720 with 1 Axes>"
      ]
     },
     "metadata": {
      "needs_background": "light"
     },
     "output_type": "display_data"
    }
   ],
   "source": [
    "# Data Visualization:\n",
    "plt.figure(figsize=(15,10))\n",
    "parallel_coordinates(dataset.drop(\"Id\", axis=1), \"overall\")\n",
    "plt.title('Parallel Coordinates Plot', fontsize=20, fontweight='bold')\n",
    "plt.xlabel('Features', fontsize=15)\n",
    "plt.ylabel('Features values', fontsize=15)\n",
    "plt.legend(loc=1, prop={'size': 15}, frameon=True,shadow=True, facecolor=\"white\", edgecolor=\"black\")\n",
    "plt.show()"
   ]
  },
  {
   "cell_type": "markdown",
   "metadata": {},
   "source": [
    "### Training the model:"
   ]
  },
  {
   "cell_type": "code",
   "execution_count": 7,
   "metadata": {},
   "outputs": [
    {
     "data": {
      "text/plain": [
       "KNeighborsClassifier(algorithm='auto', leaf_size=30, metric='minkowski',\n",
       "           metric_params=None, n_jobs=None, n_neighbors=6, p=2,\n",
       "           weights='uniform')"
      ]
     },
     "execution_count": 7,
     "metadata": {},
     "output_type": "execute_result"
    }
   ],
   "source": [
    "# Splitting into training and test datasets:\n",
    "X_train, X_test, Y_train, Y_test = train_test_split(X, Y, test_size = 0.5, random_state = 0)\n",
    "\n",
    "# Creating the learning model\n",
    "knn_classifier = KNeighborsClassifier(n_neighbors=6)\n",
    "\n",
    "# Fitting the model with the training data\n",
    "knn_classifier.fit(X_train, Y_train)"
   ]
  },
  {
   "cell_type": "markdown",
   "metadata": {},
   "source": [
    "### Test the model"
   ]
  },
  {
   "cell_type": "code",
   "execution_count": 8,
   "metadata": {},
   "outputs": [
    {
     "name": "stdout",
     "output_type": "stream",
     "text": [
      "[0 0 0 0 0 0 0 0 0 0 0 0 0 0 0 0 0 0 0 0 0 0 0 0 0 0 0 0 0 0 0 0 0 0 0 0 0\n",
      " 0 0 0 0 0 0 0 0 0 0 0 0 0 0 0 0 0 0 0 0 0 0 0 0 0 0 0 0 0 0 0 0 0 0 0 0 0\n",
      " 0 0 0 0 0 0 0 0 0 0 0 0 0 0 0 0 0 0 0 0 0 0 0 0 0 0 0 0 0 0 0 0 0 0 0 0 0\n",
      " 0 0 0 0 0 0 0 0 0 0 0 0 0 0 0 0 0 0 0 0 0 0 0 0 0 0 0 0 0 0 0 0 0 0 0 0 0\n",
      " 0 0 0 0 0 0 0 0 0 0 0 0 0 0 0 0 0 0 0 0 0 0 0 0 0 0 0 0 0 0 0 0 0 0 0 0 0\n",
      " 0 0 0 0 0 0 0 0 0 0 0 0 0 0 0 0 0 0 0 0 0 0 0 0 0 0 0 0 0 0 0 0 0 0 0 0 0\n",
      " 0 0 0 0 0 0 0 0 0 0 0 0 0 0 0 0 0 0 0 0 0 0 0 0 0 0 0 0 0 0 0 0 0 0 0 0 0\n",
      " 0 0 0 0 0 0 0 0 0 0 0 0 0 0 0 0 0 0 0]\n",
      "Accuracy of model: 97.12 %.\n"
     ]
    },
    {
     "data": {
      "text/plain": [
       "array([[270,   0],\n",
       "       [  8,   0]])"
      ]
     },
     "execution_count": 8,
     "metadata": {},
     "output_type": "execute_result"
    }
   ],
   "source": [
    "# Making predictions with the test data (This line is also where we would potentially classify new data)\n",
    "Y_pred = knn_classifier.predict(X_test)\n",
    "print(Y_pred)\n",
    "\n",
    "# Finding Accuracy:\n",
    "accuracy = accuracy_score(Y_test, Y_pred)*100\n",
    "print('Accuracy of model: ' + str(round(accuracy, 2)) + ' %.')\n",
    "cm = confusion_matrix(Y_test, Y_pred)\n",
    "cm"
   ]
  },
  {
   "cell_type": "markdown",
   "metadata": {},
   "source": [
    "### Testing out different k values"
   ]
  },
  {
   "cell_type": "code",
   "execution_count": 9,
   "metadata": {
    "scrolled": true
   },
   "outputs": [
    {
     "name": "stderr",
     "output_type": "stream",
     "text": [
      "/opt/anaconda2/lib/python2.7/site-packages/sklearn/model_selection/_split.py:652: Warning: The least populated class in y has only 6 members, which is too few. The minimum number of members in any class cannot be less than n_splits=10.\n",
      "  % (min_groups, self.n_splits)), Warning)\n"
     ]
    },
    {
     "data": {
      "text/plain": [
       "<Figure size 432x288 with 0 Axes>"
      ]
     },
     "metadata": {},
     "output_type": "display_data"
    },
    {
     "data": {
      "image/png": "[encoded data removed]",
      "text/plain": [
       "<Figure size 1080x720 with 1 Axes>"
      ]
     },
     "metadata": {
      "needs_background": "light"
     },
     "output_type": "display_data"
    }
   ],
   "source": [
    "# creating list of cv scores\n",
    "cv_scores = []\n",
    "k_list = [i for i in range(1,50,2)]\n",
    "\n",
    "# perform 10-fold cross validation\n",
    "for k in range(1, 50, 2):\n",
    "    knn = KNeighborsClassifier(n_neighbors=k)\n",
    "    scores = cross_val_score(knn, X_train, Y_train, cv=10, scoring='accuracy')\n",
    "    cv_scores.append(scores.mean())\n",
    "\n",
    "\n",
    "\n",
    "# Displaying results visually\n",
    "plt.figure()\n",
    "plt.figure(figsize=(15,10))\n",
    "plt.title('The optimal number of neighbors', fontsize=20, fontweight='bold')\n",
    "plt.xlabel('Number of Neighbors K', fontsize=15)\n",
    "plt.ylabel('Accuracy', fontsize=15)\n",
    "plt.plot(k_list, cv_scores)\n",
    "\n",
    "plt.show()"
   ]
  },
  {
   "cell_type": "markdown",
   "metadata": {},
   "source": [
    "## Making an iris-classifier API"
   ]
  },
  {
   "cell_type": "code",
   "execution_count": 10,
   "metadata": {},
   "outputs": [
    {
     "name": "stdout",
     "output_type": "stream",
     "text": [
      " * Serving Flask app \"__main__\" (lazy loading)\n",
      " * Environment: production\n",
      "   WARNING: This is a development server. Do not use it in a production deployment.\n",
      "   Use a production WSGI server instead.\n",
      " * Debug mode: off\n"
     ]
    },
    {
     "name": "stderr",
     "output_type": "stream",
     "text": [
      " * Running on http://127.0.0.1:5000/ (Press CTRL+C to quit)\n",
      "127.0.0.1 - - [30/Oct/2019 20:10:52] \"GET / HTTP/1.1\" 200 -\n",
      "127.0.0.1 - - [30/Oct/2019 20:10:53] \"GET /wage=500 HTTP/1.1\" 404 -\n",
      "127.0.0.1 - - [30/Oct/2019 20:10:58] \"GET /wage=300 HTTP/1.1\" 404 -\n",
      "127.0.0.1 - - [30/Oct/2019 20:10:58] \"GET /favicon.ico HTTP/1.1\" 404 -\n",
      "127.0.0.1 - - [30/Oct/2019 20:11:04] \"GET /wage=300 HTTP/1.1\" 404 -\n",
      "127.0.0.1 - - [30/Oct/2019 20:11:05] \"GET /wage=500 HTTP/1.1\" 404 -\n",
      "127.0.0.1 - - [30/Oct/2019 20:11:07] \"GET /wage=500 HTTP/1.1\" 404 -\n",
      "127.0.0.1 - - [30/Oct/2019 20:11:26] \"GET / HTTP/1.1\" 200 -\n",
      "127.0.0.1 - - [30/Oct/2019 20:11:33] \"GET /?wage=300 HTTP/1.1\" 200 -\n",
      "127.0.0.1 - - [30/Oct/2019 20:11:33] \"GET /favicon.ico HTTP/1.1\" 404 -\n",
      "127.0.0.1 - - [30/Oct/2019 20:11:36] \"GET /?wage=300 HTTP/1.1\" 200 -\n",
      "127.0.0.1 - - [30/Oct/2019 20:11:37] \"GET /?wage=20 HTTP/1.1\" 200 -\n",
      "127.0.0.1 - - [30/Oct/2019 20:11:38] \"GET /?wage=20 HTTP/1.1\" 200 -\n",
      "127.0.0.1 - - [30/Oct/2019 20:12:14] \"GET / HTTP/1.1\" 200 -\n",
      "127.0.0.1 - - [30/Oct/2019 20:12:44] \"GET /?wage=500 HTTP/1.1\" 200 -\n",
      "127.0.0.1 - - [30/Oct/2019 20:12:47] \"GET /?wage=500 HTTP/1.1\" 200 -\n",
      "127.0.0.1 - - [30/Oct/2019 20:12:48] \"GET /?wage=5 HTTP/1.1\" 200 -\n",
      "127.0.0.1 - - [30/Oct/2019 20:12:48] \"GET /favicon.ico HTTP/1.1\" 404 -\n",
      "127.0.0.1 - - [30/Oct/2019 20:12:52] \"GET /?wage=500 HTTP/1.1\" 200 -\n",
      "127.0.0.1 - - [30/Oct/2019 20:12:55] \"GET /?wage=60 HTTP/1.1\" 200 -\n",
      "127.0.0.1 - - [30/Oct/2019 20:12:55] \"GET /favicon.ico HTTP/1.1\" 404 -\n"
     ]
    }
   ],
   "source": [
    "# Set up Flask App\n",
    "from flask import Flask, request\n",
    "app = Flask(__name__)\n",
    "\n",
    "@app.route(\"/\", methods = ['GET'])\n",
    "def classify():\n",
    "    # array mapping numbers to flower names\n",
    "    classes = [\"90-100\", \"80-90\"]\n",
    "    \n",
    "    # get values for each component, return error message if not a float\n",
    "    try:\n",
    "        values = [[float(request.args.get(component)) for component in [\"wage\"]]]\n",
    "    except TypeError:\n",
    "        return \"An error occured\\nUsage: 127.0.0.1:5000?wage=<value>\"\n",
    "    \n",
    "    # Otherwise, return the prediction.\n",
    "    prediction = knn_classifier.predict(values)[0]\n",
    "    return classes[prediction]\n",
    "\n",
    "# Run the app.\n",
    "app.run()\n",
    "\n",
    "# try 127.0.0.1:5000?sHeight=5.2&sWidth=4.6&pHeight=4.2&sHeight=7.8\n",
    "    "
   ]
  },
  {
   "cell_type": "markdown",
   "metadata": {},
   "source": [
    "## Citations\n",
    "\n",
    "@inproceedings{sklearn_api,\n",
    "  author    = {Lars Buitinck and Gilles Louppe and Mathieu Blondel and\n",
    "               Fabian Pedregosa and Andreas Mueller and Olivier Grisel and\n",
    "               Vlad Niculae and Peter Prettenhofer and Alexandre Gramfort\n",
    "               and Jaques Grobler and Robert Layton and Jake VanderPlas and\n",
    "               Arnaud Joly and Brian Holt and Ga{\\\"{e}}l Varoquaux},\n",
    "  title     = {{API} design for machine learning software: experiences from the scikit-learn\n",
    "               project},\n",
    "  booktitle = {ECML PKDD Workshop: Languages for Data Mining and Machine Learning},\n",
    "  year      = {2013},\n",
    "  pages = {108--122},\n",
    "}\n",
    "\n",
    "#### Inspiration for this project came from a similar instructive project created by Johnny Berman and Jeffery He that can be found here: github.com/JohnnyBerman/HCS-Data-Science-Bootcamp\n",
    "\n",
    "#### Code for KNN iris project adapted from SkalskiP. Orginial found here: https://www.kaggle.com/skalskip/iris-data-visualization-and-knn-classification\n",
    "\n",
    "#### Iris dataset: https://www.kaggle.com/uciml/iris"
   ]
  },
  {
   "cell_type": "code",
   "execution_count": null,
   "metadata": {},
   "outputs": [],
   "source": []
  }
 ],
 "metadata": {
  "kernelspec": {
   "display_name": "Python 2",
   "language": "python",
   "name": "python2"
  },
  "language_info": {
   "codemirror_mode": {
    "name": "ipython",
    "version": 2
   },
   "file_extension": ".py",
   "mimetype": "text/x-python",
   "name": "python",
   "nbconvert_exporter": "python",
   "pygments_lexer": "ipython2",
   "version": "2.7.16"
  }
 },
 "nbformat": 4,
 "nbformat_minor": 2
}
